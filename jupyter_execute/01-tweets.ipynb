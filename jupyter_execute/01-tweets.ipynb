{
 "cells": [
  {
   "cell_type": "markdown",
   "id": "af4a4421-94b8-4a4c-8fc4-7ac1330f00b0",
   "metadata": {},
   "source": [
    "# The Tweets"
   ]
  },
  {
   "cell_type": "code",
   "execution_count": 1,
   "id": "1e8a02f4-1289-4bcc-b8fc-bc70fa50121c",
   "metadata": {
    "tags": [
     "hide_cell"
    ]
   },
   "outputs": [],
   "source": [
    "import json\n",
    "import glob\n",
    "import pandas as pd\n",
    "import altair as alt\n",
    "import pprint"
   ]
  },
  {
   "cell_type": "code",
   "execution_count": 2,
   "id": "da7ccd70-e5f6-4738-8b99-511da555fb85",
   "metadata": {
    "tags": [
     "hide_cell"
    ]
   },
   "outputs": [
    {
     "data": {
      "text/plain": [
       "list"
      ]
     },
     "execution_count": 2,
     "metadata": {},
     "output_type": "execute_result"
    }
   ],
   "source": [
    "with open('tweets/newspapers/recent_tweets/independent_ie.json') as f:\n",
    "    indo = json.load(f)\n",
    "type(indo)"
   ]
  },
  {
   "cell_type": "code",
   "execution_count": 3,
   "id": "2e380ab4-5d6a-4ee2-b6cd-b8dfd7eba54d",
   "metadata": {
    "tags": [
     "hide_cell"
    ]
   },
   "outputs": [
    {
     "name": "stdout",
     "output_type": "stream",
     "text": [
      "{'author_id': '91334232',\n",
      " 'context_annotations': [{'domain': {'description': 'Entity Service related '\n",
      "                                                    'Events domain',\n",
      "                                     'id': '29',\n",
      "                                     'name': 'Events [Entity Service]'},\n",
      "                          'entity': {'id': '1511289118348640256',\n",
      "                                     'name': 'Eurovision 2022'}},\n",
      "                         {'domain': {'description': 'Award shows, like the '\n",
      "                                                    'Oscars, Grammys, or VMAs',\n",
      "                                     'id': '118',\n",
      "                                     'name': 'Award Show'},\n",
      "                          'entity': {'id': '1511289118348640256',\n",
      "                                     'name': 'Eurovision 2022'}},\n",
      "                         {'domain': {'description': 'Entity Service related '\n",
      "                                                    'Events domain',\n",
      "                                     'id': '29',\n",
      "                                     'name': 'Events [Entity Service]'},\n",
      "                          'entity': {'id': '1511289118348640256',\n",
      "                                     'name': 'Eurovision 2022'}},\n",
      "                         {'domain': {'description': 'Entity Service related '\n",
      "                                                    'Events domain',\n",
      "                                     'id': '29',\n",
      "                                     'name': 'Events [Entity Service]'},\n",
      "                          'entity': {'id': '1522169102260793345',\n",
      "                                     'name': 'Eurovision 2022 Semi Finale 2'}},\n",
      "                         {'domain': {'description': 'Entity Service related '\n",
      "                                                    'Events domain',\n",
      "                                     'id': '29',\n",
      "                                     'name': 'Events [Entity Service]'},\n",
      "                          'entity': {'id': '1522170687984603136',\n",
      "                                     'name': 'Eurovision 2022 Grand Finale'}},\n",
      "                         {'domain': {'description': 'Award shows, like the '\n",
      "                                                    'Oscars, Grammys, or VMAs',\n",
      "                                     'id': '118',\n",
      "                                     'name': 'Award Show'},\n",
      "                          'entity': {'id': '1511289118348640256',\n",
      "                                     'name': 'Eurovision 2022'}},\n",
      "                         {'domain': {'description': 'Award shows, like the '\n",
      "                                                    'Oscars, Grammys, or VMAs',\n",
      "                                     'id': '118',\n",
      "                                     'name': 'Award Show'},\n",
      "                          'entity': {'id': '1522169102260793345',\n",
      "                                     'name': 'Eurovision 2022 Semi Finale 2'}},\n",
      "                         {'domain': {'description': 'Award shows, like the '\n",
      "                                                    'Oscars, Grammys, or VMAs',\n",
      "                                     'id': '118',\n",
      "                                     'name': 'Award Show'},\n",
      "                          'entity': {'id': '1522170687984603136',\n",
      "                                     'name': 'Eurovision 2022 Grand Finale'}}],\n",
      " 'conversation_id': '1523082783459282944',\n",
      " 'created_at': '2022-05-07T23:30:07.000Z',\n",
      " 'entities': {'annotations': [{'end': 34,\n",
      "                               'normalized_text': 'Eurovision',\n",
      "                               'probability': 0.4161,\n",
      "                               'start': 25,\n",
      "                               'type': 'Organization'},\n",
      "                              {'end': 59,\n",
      "                               'normalized_text': 'Derry',\n",
      "                               'probability': 0.4685,\n",
      "                               'start': 55,\n",
      "                               'type': 'Place'},\n",
      "                              {'end': 82,\n",
      "                               'normalized_text': 'Brooke Scullion',\n",
      "                               'probability': 0.9862,\n",
      "                               'start': 68,\n",
      "                               'type': 'Person'},\n",
      "                              {'end': 106,\n",
      "                               'normalized_text': 'Ireland',\n",
      "                               'probability': 0.9702,\n",
      "                               'start': 100,\n",
      "                               'type': 'Place'}],\n",
      "              'urls': [{'display_url': 'buff.ly/3vT8fEo',\n",
      "                        'end': 131,\n",
      "                        'expanded_url': 'https://buff.ly/3vT8fEo',\n",
      "                        'start': 108,\n",
      "                        'url': 'https://t.co/hvtoJVXc2j'}]},\n",
      " 'id': '1523082783459282944',\n",
      " 'lang': 'en',\n",
      " 'public_metrics': {'like_count': 20,\n",
      "                    'quote_count': 0,\n",
      "                    'reply_count': 5,\n",
      "                    'retweet_count': 3},\n",
      " 'reply_settings': 'everyone',\n",
      " 'source': 'Buffer',\n",
      " 'text': '‘I’m a total oddball and Eurovision is my dream gig’ – Derry singer '\n",
      "         'Brooke Scullion on representing Ireland https://t.co/hvtoJVXc2j'}\n"
     ]
    }
   ],
   "source": [
    "pprint.pprint(indo[0]['data'][0])"
   ]
  },
  {
   "cell_type": "markdown",
   "id": "8e4b8ebe-63e9-4865-8f2a-9f8cdc16c673",
   "metadata": {
    "tags": [
     "hide_cell"
    ]
   },
   "source": [
    "## Assembling the Tweet Data"
   ]
  },
  {
   "cell_type": "code",
   "execution_count": 4,
   "id": "5f637c04-b800-4ba8-b618-cec2fd7f7c79",
   "metadata": {
    "tags": [
     "hide_cell"
    ]
   },
   "outputs": [],
   "source": [
    "files = glob.glob(\"tweets/newspapers/recent_tweets/*.json\")\n",
    "holder = []\n",
    "for f in files:\n",
    "    with open(f) as g:\n",
    "        tweets = json.load(g)\n",
    "        for item in tweets:\n",
    "            for t in item['data']:\n",
    "                temp = {\"id\": t[\"id\"],\n",
    "                    \"account\": f.split(\"/\")[-1][:-5],\n",
    "                        \"created_at\": t[\"created_at\"],\n",
    "                           \"likes\": t['public_metrics'][\"like_count\"],\n",
    "                            \"quotes\": t['public_metrics'][\"quote_count\"],\n",
    "                            \"replies\": t['public_metrics'][\"reply_count\"],\n",
    "                            \"retweets\": t['public_metrics'][\"retweet_count\"],\n",
    "                            \"reply_settings\": t['reply_settings'],\n",
    "                            \"source\": t['source'],\n",
    "                            \"text\": t['text']}\n",
    "                holder.append(temp)"
   ]
  },
  {
   "cell_type": "code",
   "execution_count": 5,
   "id": "616eb345-6a1b-449e-85bc-7eaaf884acd1",
   "metadata": {
    "tags": [
     "hide_cell"
    ]
   },
   "outputs": [
    {
     "name": "stdout",
     "output_type": "stream",
     "text": [
      "<class 'pandas.core.frame.DataFrame'>\n",
      "Index: 1995 entries, 1523076460780556288 to 1520623310442143744\n",
      "Data columns (total 9 columns):\n",
      " #   Column          Non-Null Count  Dtype              \n",
      "---  ------          --------------  -----              \n",
      " 0   account         1995 non-null   object             \n",
      " 1   created_at      1995 non-null   datetime64[ns, UTC]\n",
      " 2   likes           1995 non-null   int64              \n",
      " 3   quotes          1995 non-null   int64              \n",
      " 4   replies         1995 non-null   int64              \n",
      " 5   retweets        1995 non-null   int64              \n",
      " 6   reply_settings  1995 non-null   object             \n",
      " 7   source          1995 non-null   object             \n",
      " 8   text            1995 non-null   object             \n",
      "dtypes: datetime64[ns, UTC](1), int64(4), object(4)\n",
      "memory usage: 155.9+ KB\n",
      "None\n"
     ]
    }
   ],
   "source": [
    "tweets = pd.DataFrame(holder)\n",
    "tweets['created_at'] = pd.to_datetime(tweets['created_at'])\n",
    "tweets.index = tweets['id']\n",
    "del(tweets['id'])\n",
    "print(tweets.info())"
   ]
  },
  {
   "cell_type": "markdown",
   "id": "7e6c1f35-b515-4445-b6d2-d0a4d26d2004",
   "metadata": {},
   "source": [
    "These are the metrics of the first five tweets of 1,995."
   ]
  },
  {
   "cell_type": "code",
   "execution_count": 6,
   "id": "5553138f-d311-4cee-abf9-87707bc1a3d7",
   "metadata": {
    "tags": [
     "hide_cell"
    ]
   },
   "outputs": [
    {
     "data": {
      "text/html": [
       "<div>\n",
       "<style scoped>\n",
       "    .dataframe tbody tr th:only-of-type {\n",
       "        vertical-align: middle;\n",
       "    }\n",
       "\n",
       "    .dataframe tbody tr th {\n",
       "        vertical-align: top;\n",
       "    }\n",
       "\n",
       "    .dataframe thead th {\n",
       "        text-align: right;\n",
       "    }\n",
       "</style>\n",
       "<table border=\"1\" class=\"dataframe\">\n",
       "  <thead>\n",
       "    <tr style=\"text-align: right;\">\n",
       "      <th></th>\n",
       "      <th>account</th>\n",
       "      <th>created_at</th>\n",
       "      <th>likes</th>\n",
       "      <th>quotes</th>\n",
       "      <th>replies</th>\n",
       "      <th>retweets</th>\n",
       "      <th>reply_settings</th>\n",
       "      <th>source</th>\n",
       "      <th>text</th>\n",
       "    </tr>\n",
       "    <tr>\n",
       "      <th>id</th>\n",
       "      <th></th>\n",
       "      <th></th>\n",
       "      <th></th>\n",
       "      <th></th>\n",
       "      <th></th>\n",
       "      <th></th>\n",
       "      <th></th>\n",
       "      <th></th>\n",
       "      <th></th>\n",
       "    </tr>\n",
       "  </thead>\n",
       "  <tbody>\n",
       "    <tr>\n",
       "      <th>1523076460780556288</th>\n",
       "      <td>thejournal_ie</td>\n",
       "      <td>2022-05-07 23:05:00+00:00</td>\n",
       "      <td>13</td>\n",
       "      <td>0</td>\n",
       "      <td>8</td>\n",
       "      <td>6</td>\n",
       "      <td>everyone</td>\n",
       "      <td>TweetDeck</td>\n",
       "      <td>Drugs, prostitution and extortion: The Longfor...</td>\n",
       "    </tr>\n",
       "    <tr>\n",
       "      <th>1523022857596403712</th>\n",
       "      <td>thejournal_ie</td>\n",
       "      <td>2022-05-07 19:32:00+00:00</td>\n",
       "      <td>5</td>\n",
       "      <td>0</td>\n",
       "      <td>1</td>\n",
       "      <td>0</td>\n",
       "      <td>everyone</td>\n",
       "      <td>TweetDeck</td>\n",
       "      <td>What are the issues surrounding the National M...</td>\n",
       "    </tr>\n",
       "    <tr>\n",
       "      <th>1523014808265797632</th>\n",
       "      <td>thejournal_ie</td>\n",
       "      <td>2022-05-07 19:00:01+00:00</td>\n",
       "      <td>2</td>\n",
       "      <td>1</td>\n",
       "      <td>2</td>\n",
       "      <td>0</td>\n",
       "      <td>everyone</td>\n",
       "      <td>TweetDeck</td>\n",
       "      <td>Quiz: How well do you know these Star Wars cha...</td>\n",
       "    </tr>\n",
       "    <tr>\n",
       "      <th>1522993282191478784</th>\n",
       "      <td>thejournal_ie</td>\n",
       "      <td>2022-05-07 17:34:28+00:00</td>\n",
       "      <td>3</td>\n",
       "      <td>1</td>\n",
       "      <td>0</td>\n",
       "      <td>0</td>\n",
       "      <td>everyone</td>\n",
       "      <td>Twitter Web App</td>\n",
       "      <td>SDLP deputy leader Nichola Mallon has lost her...</td>\n",
       "    </tr>\n",
       "    <tr>\n",
       "      <th>1522991507963203584</th>\n",
       "      <td>thejournal_ie</td>\n",
       "      <td>2022-05-07 17:27:25+00:00</td>\n",
       "      <td>0</td>\n",
       "      <td>0</td>\n",
       "      <td>0</td>\n",
       "      <td>2</td>\n",
       "      <td>everyone</td>\n",
       "      <td>TweetDeck</td>\n",
       "      <td>RT @rugby_ie: It was a cruel ending for Munste...</td>\n",
       "    </tr>\n",
       "  </tbody>\n",
       "</table>\n",
       "</div>"
      ],
      "text/plain": [
       "                           account                created_at  likes  quotes  \\\n",
       "id                                                                            \n",
       "1523076460780556288  thejournal_ie 2022-05-07 23:05:00+00:00     13       0   \n",
       "1523022857596403712  thejournal_ie 2022-05-07 19:32:00+00:00      5       0   \n",
       "1523014808265797632  thejournal_ie 2022-05-07 19:00:01+00:00      2       1   \n",
       "1522993282191478784  thejournal_ie 2022-05-07 17:34:28+00:00      3       1   \n",
       "1522991507963203584  thejournal_ie 2022-05-07 17:27:25+00:00      0       0   \n",
       "\n",
       "                     replies  retweets reply_settings           source  \\\n",
       "id                                                                       \n",
       "1523076460780556288        8         6       everyone        TweetDeck   \n",
       "1523022857596403712        1         0       everyone        TweetDeck   \n",
       "1523014808265797632        2         0       everyone        TweetDeck   \n",
       "1522993282191478784        0         0       everyone  Twitter Web App   \n",
       "1522991507963203584        0         2       everyone        TweetDeck   \n",
       "\n",
       "                                                                  text  \n",
       "id                                                                      \n",
       "1523076460780556288  Drugs, prostitution and extortion: The Longfor...  \n",
       "1523022857596403712  What are the issues surrounding the National M...  \n",
       "1523014808265797632  Quiz: How well do you know these Star Wars cha...  \n",
       "1522993282191478784  SDLP deputy leader Nichola Mallon has lost her...  \n",
       "1522991507963203584  RT @rugby_ie: It was a cruel ending for Munste...  "
      ]
     },
     "execution_count": 6,
     "metadata": {},
     "output_type": "execute_result"
    }
   ],
   "source": [
    "tweets.head()"
   ]
  },
  {
   "cell_type": "markdown",
   "id": "7c8751e1-4a50-4a31-be4f-3577aa1cf38c",
   "metadata": {},
   "source": [
    "## Tweets per Account\n",
    "\n",
    "These are the total tweet counts per account."
   ]
  },
  {
   "cell_type": "code",
   "execution_count": 7,
   "id": "27d3584b-c6fc-4aa5-a276-e744eb84d5d6",
   "metadata": {
    "tags": [
     "hide_input"
    ]
   },
   "outputs": [
    {
     "data": {
      "text/html": [
       "<div>\n",
       "<style scoped>\n",
       "    .dataframe tbody tr th:only-of-type {\n",
       "        vertical-align: middle;\n",
       "    }\n",
       "\n",
       "    .dataframe tbody tr th {\n",
       "        vertical-align: top;\n",
       "    }\n",
       "\n",
       "    .dataframe thead th {\n",
       "        text-align: right;\n",
       "    }\n",
       "</style>\n",
       "<table border=\"1\" class=\"dataframe\">\n",
       "  <thead>\n",
       "    <tr style=\"text-align: right;\">\n",
       "      <th></th>\n",
       "      <th>tweets</th>\n",
       "    </tr>\n",
       "  </thead>\n",
       "  <tbody>\n",
       "    <tr>\n",
       "      <th>independent_ie</th>\n",
       "      <td>623</td>\n",
       "    </tr>\n",
       "    <tr>\n",
       "      <th>irishexaminer</th>\n",
       "      <td>622</td>\n",
       "    </tr>\n",
       "    <tr>\n",
       "      <th>rtenews</th>\n",
       "      <td>475</td>\n",
       "    </tr>\n",
       "    <tr>\n",
       "      <th>thejournal_ie</th>\n",
       "      <td>275</td>\n",
       "    </tr>\n",
       "  </tbody>\n",
       "</table>\n",
       "</div>"
      ],
      "text/plain": [
       "                tweets\n",
       "independent_ie     623\n",
       "irishexaminer      622\n",
       "rtenews            475\n",
       "thejournal_ie      275"
      ]
     },
     "execution_count": 7,
     "metadata": {},
     "output_type": "execute_result"
    }
   ],
   "source": [
    "tpa = pd.DataFrame(tweets.account.value_counts())\n",
    "tpa.rename(columns={\"account\":\"tweets\"}, inplace=True)\n",
    "tpa"
   ]
  },
  {
   "cell_type": "markdown",
   "id": "054585a8-cde4-4293-8a23-1c5af631229f",
   "metadata": {
    "tags": []
   },
   "source": [
    "## Tweets by Day By Account\n",
    "\n",
    "And these are the tweets by account by day."
   ]
  },
  {
   "cell_type": "code",
   "execution_count": 8,
   "id": "ce3f62a2-70a4-4626-a58e-1a98db3a07be",
   "metadata": {
    "tags": [
     "hide_cell"
    ]
   },
   "outputs": [],
   "source": [
    "dates = pd.date_range(start='2022-05-01', end='2022-05-07', freq='D')\n",
    "date_order = []\n",
    "[date_order.append(x.strftime('%a, %b %d')) for x in dates];"
   ]
  },
  {
   "cell_type": "code",
   "execution_count": 9,
   "id": "ac2b9bf8-25ef-4d08-aa68-8d1d0a7cdeb5",
   "metadata": {
    "tags": [
     "hide_input"
    ]
   },
   "outputs": [
    {
     "data": {
      "text/html": [
       "<div>\n",
       "<style scoped>\n",
       "    .dataframe tbody tr th:only-of-type {\n",
       "        vertical-align: middle;\n",
       "    }\n",
       "\n",
       "    .dataframe tbody tr th {\n",
       "        vertical-align: top;\n",
       "    }\n",
       "\n",
       "    .dataframe thead th {\n",
       "        text-align: right;\n",
       "    }\n",
       "</style>\n",
       "<table border=\"1\" class=\"dataframe\">\n",
       "  <thead>\n",
       "    <tr style=\"text-align: right;\">\n",
       "      <th>account</th>\n",
       "      <th>independent_ie</th>\n",
       "      <th>irishexaminer</th>\n",
       "      <th>rtenews</th>\n",
       "      <th>thejournal_ie</th>\n",
       "    </tr>\n",
       "  </thead>\n",
       "  <tbody>\n",
       "    <tr>\n",
       "      <th>Sun, May 01</th>\n",
       "      <td>85</td>\n",
       "      <td>60</td>\n",
       "      <td>39</td>\n",
       "      <td>26</td>\n",
       "    </tr>\n",
       "    <tr>\n",
       "      <th>Mon, May 02</th>\n",
       "      <td>73</td>\n",
       "      <td>69</td>\n",
       "      <td>31</td>\n",
       "      <td>39</td>\n",
       "    </tr>\n",
       "    <tr>\n",
       "      <th>Tue, May 03</th>\n",
       "      <td>89</td>\n",
       "      <td>110</td>\n",
       "      <td>83</td>\n",
       "      <td>51</td>\n",
       "    </tr>\n",
       "    <tr>\n",
       "      <th>Wed, May 04</th>\n",
       "      <td>99</td>\n",
       "      <td>112</td>\n",
       "      <td>75</td>\n",
       "      <td>47</td>\n",
       "    </tr>\n",
       "    <tr>\n",
       "      <th>Thu, May 05</th>\n",
       "      <td>109</td>\n",
       "      <td>90</td>\n",
       "      <td>81</td>\n",
       "      <td>50</td>\n",
       "    </tr>\n",
       "    <tr>\n",
       "      <th>Fri, May 06</th>\n",
       "      <td>89</td>\n",
       "      <td>112</td>\n",
       "      <td>117</td>\n",
       "      <td>40</td>\n",
       "    </tr>\n",
       "    <tr>\n",
       "      <th>Sat, May 07</th>\n",
       "      <td>79</td>\n",
       "      <td>69</td>\n",
       "      <td>49</td>\n",
       "      <td>22</td>\n",
       "    </tr>\n",
       "  </tbody>\n",
       "</table>\n",
       "</div>"
      ],
      "text/plain": [
       "account      independent_ie  irishexaminer  rtenews  thejournal_ie\n",
       "Sun, May 01              85             60       39             26\n",
       "Mon, May 02              73             69       31             39\n",
       "Tue, May 03              89            110       83             51\n",
       "Wed, May 04              99            112       75             47\n",
       "Thu, May 05             109             90       81             50\n",
       "Fri, May 06              89            112      117             40\n",
       "Sat, May 07              79             69       49             22"
      ]
     },
     "execution_count": 9,
     "metadata": {},
     "output_type": "execute_result"
    }
   ],
   "source": [
    "tbdba = tweets.copy()\n",
    "tbdba['date'] = tbdba.created_at.apply(lambda x: x.strftime('%a, %b %d'))\n",
    "temp = pd.crosstab(tbdba.date, tbdba.account)\n",
    "temp.index = pd.Categorical(temp.index, date_order, ordered=True)\n",
    "temp.sort_index(inplace=True)\n",
    "temp"
   ]
  },
  {
   "cell_type": "markdown",
   "id": "a0e8828a-7f39-4a49-bc6a-6317de95bf7f",
   "metadata": {},
   "source": [
    "## Sources\n",
    "\n",
    "The majority of tweets from these news organisations are automated. A number of different platforms are used.\n",
    "\n",
    "[Buffer](https://developer.twitter.com/en/community/toolbox/buffer), a social media marketing software used for building brands on social media, is used only by the Irish Independent. [dlvr.it](https://dlvrit.com/) does the same thing, and is used only by the Examiner. [Tweetdeck](https://tweetdeck.twitter.com/) is the favourite of the The Journal, while RTÉ use the Twitter Web App, which is Tweetdeck by another name."
   ]
  },
  {
   "cell_type": "code",
   "execution_count": 10,
   "id": "1eeda157-bfa1-4537-87ea-c211a8b03393",
   "metadata": {
    "tags": [
     "hide_input"
    ]
   },
   "outputs": [
    {
     "data": {
      "text/html": [
       "<div>\n",
       "<style scoped>\n",
       "    .dataframe tbody tr th:only-of-type {\n",
       "        vertical-align: middle;\n",
       "    }\n",
       "\n",
       "    .dataframe tbody tr th {\n",
       "        vertical-align: top;\n",
       "    }\n",
       "\n",
       "    .dataframe thead th {\n",
       "        text-align: right;\n",
       "    }\n",
       "</style>\n",
       "<table border=\"1\" class=\"dataframe\">\n",
       "  <thead>\n",
       "    <tr style=\"text-align: right;\">\n",
       "      <th>account</th>\n",
       "      <th>independent_ie</th>\n",
       "      <th>irishexaminer</th>\n",
       "      <th>rtenews</th>\n",
       "      <th>thejournal_ie</th>\n",
       "    </tr>\n",
       "    <tr>\n",
       "      <th>source</th>\n",
       "      <th></th>\n",
       "      <th></th>\n",
       "      <th></th>\n",
       "      <th></th>\n",
       "    </tr>\n",
       "  </thead>\n",
       "  <tbody>\n",
       "    <tr>\n",
       "      <th>Buffer</th>\n",
       "      <td>593</td>\n",
       "      <td>0</td>\n",
       "      <td>0</td>\n",
       "      <td>0</td>\n",
       "    </tr>\n",
       "    <tr>\n",
       "      <th>Hootsuite Inc.</th>\n",
       "      <td>24</td>\n",
       "      <td>0</td>\n",
       "      <td>0</td>\n",
       "      <td>0</td>\n",
       "    </tr>\n",
       "    <tr>\n",
       "      <th>Sendible</th>\n",
       "      <td>0</td>\n",
       "      <td>18</td>\n",
       "      <td>0</td>\n",
       "      <td>0</td>\n",
       "    </tr>\n",
       "    <tr>\n",
       "      <th>TweetDeck</th>\n",
       "      <td>0</td>\n",
       "      <td>79</td>\n",
       "      <td>0</td>\n",
       "      <td>261</td>\n",
       "    </tr>\n",
       "    <tr>\n",
       "      <th>Twitter Media Studio</th>\n",
       "      <td>0</td>\n",
       "      <td>0</td>\n",
       "      <td>43</td>\n",
       "      <td>0</td>\n",
       "    </tr>\n",
       "    <tr>\n",
       "      <th>Twitter Media Studio - LiveCut</th>\n",
       "      <td>0</td>\n",
       "      <td>0</td>\n",
       "      <td>46</td>\n",
       "      <td>0</td>\n",
       "    </tr>\n",
       "    <tr>\n",
       "      <th>Twitter Web App</th>\n",
       "      <td>6</td>\n",
       "      <td>70</td>\n",
       "      <td>386</td>\n",
       "      <td>13</td>\n",
       "    </tr>\n",
       "    <tr>\n",
       "      <th>Twitter for iPhone</th>\n",
       "      <td>0</td>\n",
       "      <td>3</td>\n",
       "      <td>0</td>\n",
       "      <td>1</td>\n",
       "    </tr>\n",
       "    <tr>\n",
       "      <th>dlvr.it</th>\n",
       "      <td>0</td>\n",
       "      <td>452</td>\n",
       "      <td>0</td>\n",
       "      <td>0</td>\n",
       "    </tr>\n",
       "  </tbody>\n",
       "</table>\n",
       "</div>"
      ],
      "text/plain": [
       "account                         independent_ie  irishexaminer  rtenews  \\\n",
       "source                                                                   \n",
       "Buffer                                     593              0        0   \n",
       "Hootsuite Inc.                              24              0        0   \n",
       "Sendible                                     0             18        0   \n",
       "TweetDeck                                    0             79        0   \n",
       "Twitter Media Studio                         0              0       43   \n",
       "Twitter Media Studio - LiveCut               0              0       46   \n",
       "Twitter Web App                              6             70      386   \n",
       "Twitter for iPhone                           0              3        0   \n",
       "dlvr.it                                      0            452        0   \n",
       "\n",
       "account                         thejournal_ie  \n",
       "source                                         \n",
       "Buffer                                      0  \n",
       "Hootsuite Inc.                              0  \n",
       "Sendible                                    0  \n",
       "TweetDeck                                 261  \n",
       "Twitter Media Studio                        0  \n",
       "Twitter Media Studio - LiveCut              0  \n",
       "Twitter Web App                            13  \n",
       "Twitter for iPhone                          1  \n",
       "dlvr.it                                     0  "
      ]
     },
     "execution_count": 10,
     "metadata": {},
     "output_type": "execute_result"
    }
   ],
   "source": [
    "pd.crosstab(tweets.source, tweets.account)"
   ]
  },
  {
   "cell_type": "code",
   "execution_count": 11,
   "id": "48663062-c944-438b-b8b1-9c141aaae0d3",
   "metadata": {
    "tags": [
     "hide_cell"
    ]
   },
   "outputs": [],
   "source": [
    "def tweet_finder(data, key, value, account):\n",
    "    sieve = data[data[key]==value]\n",
    "    holder = []\n",
    "    with open(f'tweets/newspapers/recent_tweets/{account}.json') as f:\n",
    "        temp = json.load(f)\n",
    "    for item in temp:\n",
    "        for t in item['data']:\n",
    "            if t['id'] in sieve.index:\n",
    "                holder.append(t)\n",
    "    print(f'The result set has {len(holder)} tweets.')\n",
    "    return holder"
   ]
  },
  {
   "cell_type": "markdown",
   "id": "9804d0fd-4873-47e9-9f6b-30f93e799f35",
   "metadata": {},
   "source": [
    "### Tweets from Twitter for iPhone\n",
    "\n",
    "The Examiner over-rode the automation three times during the week to send tweets from an iPhone. Let's look at the tweets."
   ]
  },
  {
   "cell_type": "code",
   "execution_count": 12,
   "id": "19175392-2dc4-48d8-8780-c3d8075bfd99",
   "metadata": {
    "tags": [
     "hide_cell"
    ]
   },
   "outputs": [
    {
     "name": "stdout",
     "output_type": "stream",
     "text": [
      "The result set has 3 tweets.\n"
     ]
    }
   ],
   "source": [
    "results = tweet_finder(tweets, 'source', 'Twitter for iPhone', 'irishexaminer')"
   ]
  },
  {
   "cell_type": "code",
   "execution_count": 13,
   "id": "2deefe37-6984-435a-b062-4f53c7d49883",
   "metadata": {
    "tags": [
     "hide_input"
    ]
   },
   "outputs": [
    {
     "name": "stdout",
     "output_type": "stream",
     "text": [
      "2022-05-07T11:01:29.000Z\n",
      "RT @ExaminerSport: Larry Ryan: Kammy bantered responsibly and he made us smile https://t.co/rjPsnSaoRK\n",
      "--------------------------------------------------------------------------------\n",
      "2022-05-07T11:01:22.000Z\n",
      "RT @ExaminerSport: What really goes on in a huddle of hurling selectors? https://t.co/Subr7ozzqS\n",
      "--------------------------------------------------------------------------------\n",
      "2022-05-07T11:01:08.000Z\n",
      "RT @ExaminerSport: Patrick Kelly: A positive performance is a pre-requisite from Cork https://t.co/uvKT0ZHYxv\n",
      "--------------------------------------------------------------------------------\n"
     ]
    }
   ],
   "source": [
    "for r in results:\n",
    "    print(r['created_at'])\n",
    "    print(r['text'])\n",
    "    print(\"-\"*80)"
   ]
  },
  {
   "cell_type": "markdown",
   "id": "e2e4721b-2e40-49e4-976f-1beaab85ed08",
   "metadata": {},
   "source": [
    "All three are sports columns. It may be that the iPhone tweeter wrote one, if not all, of those columns. It's a reasonable hypothesis."
   ]
  },
  {
   "cell_type": "markdown",
   "id": "fd82d0e6-1d38-4ec3-8028-997deec37c5a",
   "metadata": {},
   "source": [
    "## Reply Settings\n",
    "\n",
    "Because bullying is prevalent on Twitter users can set their accounts to either accept responses from everyone, which is the default, or limit it to only those users who are mentioned in the tweet itself. These are the settings for the tweets in the data set."
   ]
  },
  {
   "cell_type": "code",
   "execution_count": 14,
   "id": "ddbcfcb3-080c-4504-96c2-b7245fb3e637",
   "metadata": {
    "tags": [
     "hide_input"
    ]
   },
   "outputs": [
    {
     "data": {
      "text/html": [
       "<div>\n",
       "<style scoped>\n",
       "    .dataframe tbody tr th:only-of-type {\n",
       "        vertical-align: middle;\n",
       "    }\n",
       "\n",
       "    .dataframe tbody tr th {\n",
       "        vertical-align: top;\n",
       "    }\n",
       "\n",
       "    .dataframe thead th {\n",
       "        text-align: right;\n",
       "    }\n",
       "</style>\n",
       "<table border=\"1\" class=\"dataframe\">\n",
       "  <thead>\n",
       "    <tr style=\"text-align: right;\">\n",
       "      <th>account</th>\n",
       "      <th>independent_ie</th>\n",
       "      <th>irishexaminer</th>\n",
       "      <th>rtenews</th>\n",
       "      <th>thejournal_ie</th>\n",
       "    </tr>\n",
       "    <tr>\n",
       "      <th>reply_settings</th>\n",
       "      <th></th>\n",
       "      <th></th>\n",
       "      <th></th>\n",
       "      <th></th>\n",
       "    </tr>\n",
       "  </thead>\n",
       "  <tbody>\n",
       "    <tr>\n",
       "      <th>everyone</th>\n",
       "      <td>623</td>\n",
       "      <td>622</td>\n",
       "      <td>475</td>\n",
       "      <td>271</td>\n",
       "    </tr>\n",
       "    <tr>\n",
       "      <th>mentionedUsers</th>\n",
       "      <td>0</td>\n",
       "      <td>0</td>\n",
       "      <td>0</td>\n",
       "      <td>4</td>\n",
       "    </tr>\n",
       "  </tbody>\n",
       "</table>\n",
       "</div>"
      ],
      "text/plain": [
       "account         independent_ie  irishexaminer  rtenews  thejournal_ie\n",
       "reply_settings                                                       \n",
       "everyone                   623            622      475            271\n",
       "mentionedUsers               0              0        0              4"
      ]
     },
     "execution_count": 14,
     "metadata": {},
     "output_type": "execute_result"
    }
   ],
   "source": [
    "pd.crosstab(tweets.reply_settings, tweets.account)"
   ]
  },
  {
   "cell_type": "markdown",
   "id": "69a70840-4aa6-420c-8e58-6dc0343fcab1",
   "metadata": {},
   "source": [
    "### Replies Limited to Mentioned Users"
   ]
  },
  {
   "cell_type": "markdown",
   "id": "1de5ed46-f5a9-41c9-918a-ebe9dae57622",
   "metadata": {},
   "source": [
    "`thejournal_ie` limits the reply settings for four of its tweets to \"mentionedUsers\". Why would this be? Again, we can look at the tweets."
   ]
  },
  {
   "cell_type": "code",
   "execution_count": 15,
   "id": "ad0c5bf8-8a9d-4694-ba97-f30e602138d7",
   "metadata": {
    "tags": [
     "hide_cell"
    ]
   },
   "outputs": [
    {
     "name": "stdout",
     "output_type": "stream",
     "text": [
      "The result set has 4 tweets.\n"
     ]
    }
   ],
   "source": [
    "results = tweet_finder(tweets, 'reply_settings', 'mentionedUsers', 'thejournal_ie')"
   ]
  },
  {
   "cell_type": "code",
   "execution_count": 16,
   "id": "77706b24-dd8d-46a9-8287-7fedc1823c11",
   "metadata": {
    "tags": [
     "hide_input"
    ]
   },
   "outputs": [
    {
     "name": "stdout",
     "output_type": "stream",
     "text": [
      "2022-05-05T16:42:23.000Z\n",
      "An 84-year-old man who admits sexually assaulting his young granddaughter has been jailed for 21 months\n",
      "\n",
      "https://t.co/FzTGvn3L7f\n",
      "--------------------------------------------------------------------------------\n",
      "2022-05-05T14:01:18.000Z\n",
      "A store assistant was sexually harassed when a supermarket manager exposed himself to her in the workplace and sent her ‘dirty pictures’, the Workplace Relations Commission has determined https://t.co/7fmueRZRIZ\n",
      "--------------------------------------------------------------------------------\n",
      "2022-05-04T16:13:30.000Z\n",
      "The UK has included an Irish journalist in its latest round of financial sanctions against Russia https://t.co/jUHaLePH5o\n",
      "--------------------------------------------------------------------------------\n",
      "2022-05-03T14:17:04.000Z\n",
      "A witness in the trial of a woman accused of murdering a two-year-old girl has said in evidence that she heard the defendant say “I am telling, I am telling” on the morning the toddler was found critically injured an an apartment in Cork\n",
      "https://t.co/GdNt3Rf7di\n",
      "--------------------------------------------------------------------------------\n"
     ]
    }
   ],
   "source": [
    "for r in results:\n",
    "    print(r['created_at'])\n",
    "    print(r['text'])\n",
    "    print(\"-\"*80)"
   ]
  }
 ],
 "metadata": {
  "kernelspec": {
   "display_name": "Python 3 (ipykernel)",
   "language": "python",
   "name": "python3"
  },
  "language_info": {
   "codemirror_mode": {
    "name": "ipython",
    "version": 3
   },
   "file_extension": ".py",
   "mimetype": "text/x-python",
   "name": "python",
   "nbconvert_exporter": "python",
   "pygments_lexer": "ipython3",
   "version": "3.8.2"
  }
 },
 "nbformat": 4,
 "nbformat_minor": 5
}