{
 "cells": [
  {
   "cell_type": "markdown",
   "id": "92259437-1271-4c2a-98af-7e8f120b7ef0",
   "metadata": {},
   "source": [
    "# The Four Individual Accounts"
   ]
  },
  {
   "cell_type": "code",
   "execution_count": 1,
   "id": "1e8a02f4-1289-4bcc-b8fc-bc70fa50121c",
   "metadata": {
    "tags": [
     "hide_cell"
    ]
   },
   "outputs": [],
   "source": [
    "import json\n",
    "import glob\n",
    "import pandas as pd\n",
    "import altair as alt\n",
    "import pprint"
   ]
  },
  {
   "cell_type": "code",
   "execution_count": 2,
   "id": "e940f8bf-0e85-4334-a171-ada2e5ae6067",
   "metadata": {
    "tags": [
     "hide_cell"
    ]
   },
   "outputs": [],
   "source": [
    "files = glob.glob('tweets/newspapers/newspaper_account_details/*.json')\n",
    "media_details = []\n",
    "for f in files:\n",
    "    with open(f) as g:\n",
    "        temp = json.load(g)\n",
    "        media_details.append(temp)"
   ]
  },
  {
   "cell_type": "markdown",
   "id": "38feb740-e483-4216-bde8-93858dc1f187",
   "metadata": {},
   "source": [
    "## Account Metadata"
   ]
  },
  {
   "cell_type": "markdown",
   "id": "8c04030c-1bbe-4b7f-9dad-082ae2ecc700",
   "metadata": {},
   "source": [
    "This is the metadata for a typical twitter account - [@independent_ie](https://twitter.com/Independent_ie) in this case."
   ]
  },
  {
   "cell_type": "code",
   "execution_count": 3,
   "id": "bc1b8921-52aa-4fe4-9817-9c3bf3caed57",
   "metadata": {
    "tags": [
     "hide_input"
    ]
   },
   "outputs": [
    {
     "name": "stdout",
     "output_type": "stream",
     "text": [
      "{'created_at': '2009-11-20T12:55:30.000Z',\n",
      " 'description': \"https://t.co/pT0SGCt8uD is Ireland's most read news website \"\n",
      "                'providing breaking news content to 13 million readers a '\n",
      "                'month. Get in touch: contact@independent.ie.',\n",
      " 'id': '91334232',\n",
      " 'location': 'Dublin',\n",
      " 'name': 'Independent.ie',\n",
      " 'public_metrics': {'followers_count': 712402,\n",
      "                    'following_count': 134,\n",
      "                    'listed_count': 2650,\n",
      "                    'tweet_count': 457011},\n",
      " 'url': 'https://t.co/N0HTtXGDTV',\n",
      " 'username': 'Independent_ie',\n",
      " 'verified': True}\n"
     ]
    }
   ],
   "source": [
    "pprint.pprint(media_details[4]['data'])"
   ]
  },
  {
   "cell_type": "code",
   "execution_count": 4,
   "id": "26c4dac6-7648-4ae3-bda2-1b2649bfcf9d",
   "metadata": {
    "tags": [
     "hide_cell"
    ]
   },
   "outputs": [],
   "source": [
    "holder = []\n",
    "for detail in media_details:\n",
    "    temp = {\"created_at\": detail['data']['created_at'],\n",
    "            \"username\": detail['data']['username'],\n",
    "            \"name\": detail['data']['name'],\n",
    "            \"id\": detail['data']['id'],\n",
    "            \"followers\": detail['data']['public_metrics']['followers_count'],\n",
    "            \"following\": detail['data']['public_metrics']['following_count'],\n",
    "            \"listed\": detail['data']['public_metrics']['listed_count'],\n",
    "            \"tweets\": detail['data']['public_metrics']['tweet_count'],\n",
    "            \"location\": detail['data']['location'],\n",
    "            \"verified\": detail['data']['verified']}\n",
    "    holder.append(temp)"
   ]
  },
  {
   "cell_type": "code",
   "execution_count": 5,
   "id": "b49521c9-8c14-4937-9ef9-b5886fbbf533",
   "metadata": {
    "tags": [
     "hide_cell"
    ]
   },
   "outputs": [
    {
     "data": {
      "text/html": [
       "<div>\n",
       "<style scoped>\n",
       "    .dataframe tbody tr th:only-of-type {\n",
       "        vertical-align: middle;\n",
       "    }\n",
       "\n",
       "    .dataframe tbody tr th {\n",
       "        vertical-align: top;\n",
       "    }\n",
       "\n",
       "    .dataframe thead th {\n",
       "        text-align: right;\n",
       "    }\n",
       "</style>\n",
       "<table border=\"1\" class=\"dataframe\">\n",
       "  <thead>\n",
       "    <tr style=\"text-align: right;\">\n",
       "      <th></th>\n",
       "      <th>created_at</th>\n",
       "      <th>username</th>\n",
       "      <th>name</th>\n",
       "      <th>followers</th>\n",
       "      <th>following</th>\n",
       "      <th>listed</th>\n",
       "      <th>tweets</th>\n",
       "      <th>location</th>\n",
       "      <th>verified</th>\n",
       "      <th>followers_per_tweet</th>\n",
       "    </tr>\n",
       "    <tr>\n",
       "      <th>id</th>\n",
       "      <th></th>\n",
       "      <th></th>\n",
       "      <th></th>\n",
       "      <th></th>\n",
       "      <th></th>\n",
       "      <th></th>\n",
       "      <th></th>\n",
       "      <th></th>\n",
       "      <th></th>\n",
       "      <th></th>\n",
       "    </tr>\n",
       "  </thead>\n",
       "  <tbody>\n",
       "    <tr>\n",
       "      <th>8973062</th>\n",
       "      <td>2007-09-19 12:52:21+00:00</td>\n",
       "      <td>rtenews</td>\n",
       "      <td>RTÉ News</td>\n",
       "      <td>1103818</td>\n",
       "      <td>308</td>\n",
       "      <td>4041</td>\n",
       "      <td>206940</td>\n",
       "      <td>Ireland</td>\n",
       "      <td>True</td>\n",
       "      <td>5.334000</td>\n",
       "    </tr>\n",
       "    <tr>\n",
       "      <th>91334232</th>\n",
       "      <td>2009-11-20 12:55:30+00:00</td>\n",
       "      <td>Independent_ie</td>\n",
       "      <td>Independent.ie</td>\n",
       "      <td>712402</td>\n",
       "      <td>134</td>\n",
       "      <td>2650</td>\n",
       "      <td>457011</td>\n",
       "      <td>Dublin</td>\n",
       "      <td>True</td>\n",
       "      <td>1.558829</td>\n",
       "    </tr>\n",
       "    <tr>\n",
       "      <th>150246405</th>\n",
       "      <td>2010-05-31 13:08:52+00:00</td>\n",
       "      <td>thejournal_ie</td>\n",
       "      <td>TheJournal.ie</td>\n",
       "      <td>706618</td>\n",
       "      <td>746</td>\n",
       "      <td>2439</td>\n",
       "      <td>314417</td>\n",
       "      <td>Ireland</td>\n",
       "      <td>True</td>\n",
       "      <td>2.247391</td>\n",
       "    </tr>\n",
       "    <tr>\n",
       "      <th>15084853</th>\n",
       "      <td>2008-06-11 13:54:36+00:00</td>\n",
       "      <td>IrishTimes</td>\n",
       "      <td>The Irish Times</td>\n",
       "      <td>670120</td>\n",
       "      <td>156</td>\n",
       "      <td>4014</td>\n",
       "      <td>680596</td>\n",
       "      <td>Ireland</td>\n",
       "      <td>True</td>\n",
       "      <td>0.984608</td>\n",
       "    </tr>\n",
       "    <tr>\n",
       "      <th>19903360</th>\n",
       "      <td>2009-02-02 12:01:29+00:00</td>\n",
       "      <td>irishexaminer</td>\n",
       "      <td>Irish Examiner</td>\n",
       "      <td>241613</td>\n",
       "      <td>602</td>\n",
       "      <td>1750</td>\n",
       "      <td>443308</td>\n",
       "      <td>Ireland</td>\n",
       "      <td>True</td>\n",
       "      <td>0.545023</td>\n",
       "    </tr>\n",
       "  </tbody>\n",
       "</table>\n",
       "</div>"
      ],
      "text/plain": [
       "                         created_at        username             name  \\\n",
       "id                                                                     \n",
       "8973062   2007-09-19 12:52:21+00:00         rtenews         RTÉ News   \n",
       "91334232  2009-11-20 12:55:30+00:00  Independent_ie   Independent.ie   \n",
       "150246405 2010-05-31 13:08:52+00:00   thejournal_ie    TheJournal.ie   \n",
       "15084853  2008-06-11 13:54:36+00:00      IrishTimes  The Irish Times   \n",
       "19903360  2009-02-02 12:01:29+00:00   irishexaminer   Irish Examiner   \n",
       "\n",
       "           followers  following  listed  tweets location  verified  \\\n",
       "id                                                                   \n",
       "8973062      1103818        308    4041  206940  Ireland      True   \n",
       "91334232      712402        134    2650  457011   Dublin      True   \n",
       "150246405     706618        746    2439  314417  Ireland      True   \n",
       "15084853      670120        156    4014  680596  Ireland      True   \n",
       "19903360      241613        602    1750  443308  Ireland      True   \n",
       "\n",
       "           followers_per_tweet  \n",
       "id                              \n",
       "8973062               5.334000  \n",
       "91334232              1.558829  \n",
       "150246405             2.247391  \n",
       "15084853              0.984608  \n",
       "19903360              0.545023  "
      ]
     },
     "execution_count": 5,
     "metadata": {},
     "output_type": "execute_result"
    }
   ],
   "source": [
    "media_df = pd.DataFrame(holder)\n",
    "media_df.index = media_df['id']\n",
    "del(media_df['id'])\n",
    "media_df['created_at'] = pd.to_datetime(media_df['created_at'])\n",
    "\n",
    "media_df['followers_per_tweet'] = media_df['followers'] / media_df['tweets']\n",
    "# media_df = media_df.round({'followers_per_tweet':2})\n",
    "media_df.sort_values('followers', ascending=False, inplace=True)\n",
    "media_df"
   ]
  },
  {
   "cell_type": "markdown",
   "id": "622512fe-dda1-431b-a3f7-aab1a0565236",
   "metadata": {},
   "source": [
    "## The Four Accounts\n",
    "\n",
    "This is a table of the four counts, showing when they were created, username and name, and other significant details."
   ]
  },
  {
   "cell_type": "code",
   "execution_count": 6,
   "id": "8ea9c08f-7957-4391-9b13-2add1d46dcfb",
   "metadata": {
    "tags": [
     "hide_input"
    ]
   },
   "outputs": [
    {
     "data": {
      "text/html": [
       "<style type=\"text/css\">\n",
       "</style>\n",
       "<table id=\"T_c6009\">\n",
       "  <thead>\n",
       "    <tr>\n",
       "      <th class=\"blank level0\" >&nbsp;</th>\n",
       "      <th id=\"T_c6009_level0_col0\" class=\"col_heading level0 col0\" >created_at</th>\n",
       "      <th id=\"T_c6009_level0_col1\" class=\"col_heading level0 col1\" >username</th>\n",
       "      <th id=\"T_c6009_level0_col2\" class=\"col_heading level0 col2\" >name</th>\n",
       "      <th id=\"T_c6009_level0_col3\" class=\"col_heading level0 col3\" >followers</th>\n",
       "      <th id=\"T_c6009_level0_col4\" class=\"col_heading level0 col4\" >following</th>\n",
       "      <th id=\"T_c6009_level0_col5\" class=\"col_heading level0 col5\" >listed</th>\n",
       "      <th id=\"T_c6009_level0_col6\" class=\"col_heading level0 col6\" >tweets</th>\n",
       "      <th id=\"T_c6009_level0_col7\" class=\"col_heading level0 col7\" >location</th>\n",
       "      <th id=\"T_c6009_level0_col8\" class=\"col_heading level0 col8\" >verified</th>\n",
       "      <th id=\"T_c6009_level0_col9\" class=\"col_heading level0 col9\" >followers_per_tweet</th>\n",
       "    </tr>\n",
       "    <tr>\n",
       "      <th class=\"index_name level0\" >id</th>\n",
       "      <th class=\"blank col0\" >&nbsp;</th>\n",
       "      <th class=\"blank col1\" >&nbsp;</th>\n",
       "      <th class=\"blank col2\" >&nbsp;</th>\n",
       "      <th class=\"blank col3\" >&nbsp;</th>\n",
       "      <th class=\"blank col4\" >&nbsp;</th>\n",
       "      <th class=\"blank col5\" >&nbsp;</th>\n",
       "      <th class=\"blank col6\" >&nbsp;</th>\n",
       "      <th class=\"blank col7\" >&nbsp;</th>\n",
       "      <th class=\"blank col8\" >&nbsp;</th>\n",
       "      <th class=\"blank col9\" >&nbsp;</th>\n",
       "    </tr>\n",
       "  </thead>\n",
       "  <tbody>\n",
       "    <tr>\n",
       "      <th id=\"T_c6009_level0_row0\" class=\"row_heading level0 row0\" >8973062</th>\n",
       "      <td id=\"T_c6009_row0_col0\" class=\"data row0 col0\" >September 19, 2007</td>\n",
       "      <td id=\"T_c6009_row0_col1\" class=\"data row0 col1\" >rtenews</td>\n",
       "      <td id=\"T_c6009_row0_col2\" class=\"data row0 col2\" >RTÉ News</td>\n",
       "      <td id=\"T_c6009_row0_col3\" class=\"data row0 col3\" >1,103,818</td>\n",
       "      <td id=\"T_c6009_row0_col4\" class=\"data row0 col4\" >308</td>\n",
       "      <td id=\"T_c6009_row0_col5\" class=\"data row0 col5\" >4,041</td>\n",
       "      <td id=\"T_c6009_row0_col6\" class=\"data row0 col6\" >206,940</td>\n",
       "      <td id=\"T_c6009_row0_col7\" class=\"data row0 col7\" >Ireland</td>\n",
       "      <td id=\"T_c6009_row0_col8\" class=\"data row0 col8\" >1</td>\n",
       "      <td id=\"T_c6009_row0_col9\" class=\"data row0 col9\" >5.33</td>\n",
       "    </tr>\n",
       "    <tr>\n",
       "      <th id=\"T_c6009_level0_row1\" class=\"row_heading level0 row1\" >91334232</th>\n",
       "      <td id=\"T_c6009_row1_col0\" class=\"data row1 col0\" >November 20, 2009</td>\n",
       "      <td id=\"T_c6009_row1_col1\" class=\"data row1 col1\" >Independent_ie</td>\n",
       "      <td id=\"T_c6009_row1_col2\" class=\"data row1 col2\" >Independent.ie</td>\n",
       "      <td id=\"T_c6009_row1_col3\" class=\"data row1 col3\" >712,402</td>\n",
       "      <td id=\"T_c6009_row1_col4\" class=\"data row1 col4\" >134</td>\n",
       "      <td id=\"T_c6009_row1_col5\" class=\"data row1 col5\" >2,650</td>\n",
       "      <td id=\"T_c6009_row1_col6\" class=\"data row1 col6\" >457,011</td>\n",
       "      <td id=\"T_c6009_row1_col7\" class=\"data row1 col7\" >Dublin</td>\n",
       "      <td id=\"T_c6009_row1_col8\" class=\"data row1 col8\" >1</td>\n",
       "      <td id=\"T_c6009_row1_col9\" class=\"data row1 col9\" >1.56</td>\n",
       "    </tr>\n",
       "    <tr>\n",
       "      <th id=\"T_c6009_level0_row2\" class=\"row_heading level0 row2\" >150246405</th>\n",
       "      <td id=\"T_c6009_row2_col0\" class=\"data row2 col0\" >May 31, 2010</td>\n",
       "      <td id=\"T_c6009_row2_col1\" class=\"data row2 col1\" >thejournal_ie</td>\n",
       "      <td id=\"T_c6009_row2_col2\" class=\"data row2 col2\" >TheJournal.ie</td>\n",
       "      <td id=\"T_c6009_row2_col3\" class=\"data row2 col3\" >706,618</td>\n",
       "      <td id=\"T_c6009_row2_col4\" class=\"data row2 col4\" >746</td>\n",
       "      <td id=\"T_c6009_row2_col5\" class=\"data row2 col5\" >2,439</td>\n",
       "      <td id=\"T_c6009_row2_col6\" class=\"data row2 col6\" >314,417</td>\n",
       "      <td id=\"T_c6009_row2_col7\" class=\"data row2 col7\" >Ireland</td>\n",
       "      <td id=\"T_c6009_row2_col8\" class=\"data row2 col8\" >1</td>\n",
       "      <td id=\"T_c6009_row2_col9\" class=\"data row2 col9\" >2.25</td>\n",
       "    </tr>\n",
       "    <tr>\n",
       "      <th id=\"T_c6009_level0_row3\" class=\"row_heading level0 row3\" >15084853</th>\n",
       "      <td id=\"T_c6009_row3_col0\" class=\"data row3 col0\" >June 11, 2008</td>\n",
       "      <td id=\"T_c6009_row3_col1\" class=\"data row3 col1\" >IrishTimes</td>\n",
       "      <td id=\"T_c6009_row3_col2\" class=\"data row3 col2\" >The Irish Times</td>\n",
       "      <td id=\"T_c6009_row3_col3\" class=\"data row3 col3\" >670,120</td>\n",
       "      <td id=\"T_c6009_row3_col4\" class=\"data row3 col4\" >156</td>\n",
       "      <td id=\"T_c6009_row3_col5\" class=\"data row3 col5\" >4,014</td>\n",
       "      <td id=\"T_c6009_row3_col6\" class=\"data row3 col6\" >680,596</td>\n",
       "      <td id=\"T_c6009_row3_col7\" class=\"data row3 col7\" >Ireland</td>\n",
       "      <td id=\"T_c6009_row3_col8\" class=\"data row3 col8\" >1</td>\n",
       "      <td id=\"T_c6009_row3_col9\" class=\"data row3 col9\" >0.98</td>\n",
       "    </tr>\n",
       "    <tr>\n",
       "      <th id=\"T_c6009_level0_row4\" class=\"row_heading level0 row4\" >19903360</th>\n",
       "      <td id=\"T_c6009_row4_col0\" class=\"data row4 col0\" >February 02, 2009</td>\n",
       "      <td id=\"T_c6009_row4_col1\" class=\"data row4 col1\" >irishexaminer</td>\n",
       "      <td id=\"T_c6009_row4_col2\" class=\"data row4 col2\" >Irish Examiner</td>\n",
       "      <td id=\"T_c6009_row4_col3\" class=\"data row4 col3\" >241,613</td>\n",
       "      <td id=\"T_c6009_row4_col4\" class=\"data row4 col4\" >602</td>\n",
       "      <td id=\"T_c6009_row4_col5\" class=\"data row4 col5\" >1,750</td>\n",
       "      <td id=\"T_c6009_row4_col6\" class=\"data row4 col6\" >443,308</td>\n",
       "      <td id=\"T_c6009_row4_col7\" class=\"data row4 col7\" >Ireland</td>\n",
       "      <td id=\"T_c6009_row4_col8\" class=\"data row4 col8\" >1</td>\n",
       "      <td id=\"T_c6009_row4_col9\" class=\"data row4 col9\" >0.55</td>\n",
       "    </tr>\n",
       "  </tbody>\n",
       "</table>\n"
      ],
      "text/plain": [
       "<pandas.io.formats.style.Styler at 0x7fab3806a8b0>"
      ]
     },
     "execution_count": 6,
     "metadata": {},
     "output_type": "execute_result"
    }
   ],
   "source": [
    "media_df.style.format(precision=2, thousands=\",\",\n",
    "                formatter={'created_at': lambda x: x.strftime('%B %d, %Y')\n",
    "                          })"
   ]
  },
  {
   "cell_type": "markdown",
   "id": "1d670c55-faff-4b5d-860e-9ff94f5a0ac6",
   "metadata": {},
   "source": [
    "## Observations\n",
    "\n",
    "* RTÉ were the earliest adopters of Twitter, opening their account eighteen months after Twitter was founded.\n",
    "* RTÉ are also the most popular account to follow, with 1.1 million followers.\n",
    "* RTÉ are not the biggest tweeters however - that honour belongs to the Irish Times, with nearly seven hundred thousand tweets to show for their fourteen year activity.\n",
    "* Four of the five accounts set their location as Ireland. Only the Independent specifies Dublin."
   ]
  },
  {
   "cell_type": "markdown",
   "id": "7f52f178-7789-440e-be5e-409bf7e16eab",
   "metadata": {},
   "source": [
    "## Charts Followers per Account, Followers per Tweet per Account"
   ]
  },
  {
   "cell_type": "code",
   "execution_count": 7,
   "id": "5326c5b7-7e69-4ed0-88d2-3ee7a9997f1c",
   "metadata": {},
   "outputs": [],
   "source": [
    "media_df['followers '] = media_df.followers.apply(lambda x: \"{:,}\".format(x))\n",
    "media_df['followers_per_tweet '] = media_df.followers_per_tweet.apply(lambda x: \"{:.2f}\".format(x))"
   ]
  },
  {
   "cell_type": "code",
   "execution_count": 8,
   "id": "c07f9daa-2e7f-4880-b912-97302bafec4f",
   "metadata": {
    "tags": [
     "hide_input"
    ]
   },
   "outputs": [
    {
     "data": {
      "text/html": [
       "\n",
       "<div id=\"altair-viz-81ec0790b908446bbbd02bcb02292dd3\"></div>\n",
       "<script type=\"text/javascript\">\n",
       "  (function(spec, embedOpt){\n",
       "    let outputDiv = document.currentScript.previousElementSibling;\n",
       "    if (outputDiv.id !== \"altair-viz-81ec0790b908446bbbd02bcb02292dd3\") {\n",
       "      outputDiv = document.getElementById(\"altair-viz-81ec0790b908446bbbd02bcb02292dd3\");\n",
       "    }\n",
       "    const paths = {\n",
       "      \"vega\": \"https://cdn.jsdelivr.net/npm//vega@5?noext\",\n",
       "      \"vega-lib\": \"https://cdn.jsdelivr.net/npm//vega-lib?noext\",\n",
       "      \"vega-lite\": \"https://cdn.jsdelivr.net/npm//vega-lite@4.8.1?noext\",\n",
       "      \"vega-embed\": \"https://cdn.jsdelivr.net/npm//vega-embed@6?noext\",\n",
       "    };\n",
       "\n",
       "    function loadScript(lib) {\n",
       "      return new Promise(function(resolve, reject) {\n",
       "        var s = document.createElement('script');\n",
       "        s.src = paths[lib];\n",
       "        s.async = true;\n",
       "        s.onload = () => resolve(paths[lib]);\n",
       "        s.onerror = () => reject(`Error loading script: ${paths[lib]}`);\n",
       "        document.getElementsByTagName(\"head\")[0].appendChild(s);\n",
       "      });\n",
       "    }\n",
       "\n",
       "    function showError(err) {\n",
       "      outputDiv.innerHTML = `<div class=\"error\" style=\"color:red;\">${err}</div>`;\n",
       "      throw err;\n",
       "    }\n",
       "\n",
       "    function displayChart(vegaEmbed) {\n",
       "      vegaEmbed(outputDiv, spec, embedOpt)\n",
       "        .catch(err => showError(`Javascript Error: ${err.message}<br>This usually means there's a typo in your chart specification. See the javascript console for the full traceback.`));\n",
       "    }\n",
       "\n",
       "    if(typeof define === \"function\" && define.amd) {\n",
       "      requirejs.config({paths});\n",
       "      require([\"vega-embed\"], displayChart, err => showError(`Error loading script: ${err.message}`));\n",
       "    } else if (typeof vegaEmbed === \"function\") {\n",
       "      displayChart(vegaEmbed);\n",
       "    } else {\n",
       "      loadScript(\"vega\")\n",
       "        .then(() => loadScript(\"vega-lite\"))\n",
       "        .then(() => loadScript(\"vega-embed\"))\n",
       "        .catch(showError)\n",
       "        .then(() => displayChart(vegaEmbed));\n",
       "    }\n",
       "  })({\"config\": {\"view\": {\"continuousWidth\": 400, \"continuousHeight\": 300}}, \"hconcat\": [{\"mark\": \"bar\", \"encoding\": {\"tooltip\": [{\"type\": \"nominal\", \"field\": \"name\"}, {\"type\": \"nominal\", \"field\": \"followers \"}], \"x\": {\"type\": \"nominal\", \"field\": \"name\", \"sort\": \"-y\"}, \"y\": {\"type\": \"quantitative\", \"field\": \"followers\"}}, \"title\": \"Followers per Acccount\", \"width\": 300}, {\"mark\": {\"type\": \"bar\", \"color\": \"crimson\"}, \"encoding\": {\"tooltip\": [{\"type\": \"nominal\", \"field\": \"name\"}, {\"type\": \"nominal\", \"field\": \"followers_per_tweet \"}], \"x\": {\"type\": \"nominal\", \"field\": \"name\", \"sort\": \"-y\"}, \"y\": {\"type\": \"quantitative\", \"field\": \"followers_per_tweet\"}}, \"title\": \"Followers per Tweet per Acccount\", \"width\": 300}], \"data\": {\"name\": \"data-3b2935cf20407af1c64b96b3ef6d6b3e\"}, \"$schema\": \"https://vega.github.io/schema/vega-lite/v4.8.1.json\", \"datasets\": {\"data-3b2935cf20407af1c64b96b3ef6d6b3e\": [{\"created_at\": \"2007-09-19T12:52:21+00:00\", \"username\": \"rtenews\", \"name\": \"RT\\u00c9 News\", \"followers\": 1103818, \"following\": 308, \"listed\": 4041, \"tweets\": 206940, \"location\": \"Ireland\", \"verified\": true, \"followers_per_tweet\": 5.334000193292741, \"followers \": \"1,103,818\", \"followers_per_tweet \": \"5.33\"}, {\"created_at\": \"2009-11-20T12:55:30+00:00\", \"username\": \"Independent_ie\", \"name\": \"Independent.ie\", \"followers\": 712402, \"following\": 134, \"listed\": 2650, \"tweets\": 457011, \"location\": \"Dublin\", \"verified\": true, \"followers_per_tweet\": 1.5588289997396123, \"followers \": \"712,402\", \"followers_per_tweet \": \"1.56\"}, {\"created_at\": \"2010-05-31T13:08:52+00:00\", \"username\": \"thejournal_ie\", \"name\": \"TheJournal.ie\", \"followers\": 706618, \"following\": 746, \"listed\": 2439, \"tweets\": 314417, \"location\": \"Ireland\", \"verified\": true, \"followers_per_tweet\": 2.2473912034018517, \"followers \": \"706,618\", \"followers_per_tweet \": \"2.25\"}, {\"created_at\": \"2008-06-11T13:54:36+00:00\", \"username\": \"IrishTimes\", \"name\": \"The Irish Times\", \"followers\": 670120, \"following\": 156, \"listed\": 4014, \"tweets\": 680596, \"location\": \"Ireland\", \"verified\": true, \"followers_per_tweet\": 0.9846076086253813, \"followers \": \"670,120\", \"followers_per_tweet \": \"0.98\"}, {\"created_at\": \"2009-02-02T12:01:29+00:00\", \"username\": \"irishexaminer\", \"name\": \"Irish Examiner\", \"followers\": 241613, \"following\": 602, \"listed\": 1750, \"tweets\": 443308, \"location\": \"Ireland\", \"verified\": true, \"followers_per_tweet\": 0.5450228734875076, \"followers \": \"241,613\", \"followers_per_tweet \": \"0.55\"}]}}, {\"mode\": \"vega-lite\"});\n",
       "</script>"
      ],
      "text/plain": [
       "alt.HConcatChart(...)"
      ]
     },
     "execution_count": 8,
     "metadata": {},
     "output_type": "execute_result"
    }
   ],
   "source": [
    "bar = alt.Chart(media_df).mark_bar().encode(x=alt.X('name', sort='-y'),\n",
    "                                            y='followers',\n",
    "                                           tooltip=['name',\n",
    "                                                    'followers ']).properties(\n",
    "                                                                    title='Followers per Acccount',\n",
    "                                                                      width=300)\n",
    "bar2 = alt.Chart(media_df).mark_bar(color='crimson').encode(x=alt.X('name', sort='-y'),\n",
    "                                                            y='followers_per_tweet',\n",
    "                                           tooltip=['name', 'followers_per_tweet ']).properties(\n",
    "                                                                        title='Followers per Tweet per Acccount',\n",
    "                                                                      width=300)\n",
    "bar | bar2"
   ]
  }
 ],
 "metadata": {
  "kernelspec": {
   "display_name": "Python 3 (ipykernel)",
   "language": "python",
   "name": "python3"
  },
  "language_info": {
   "codemirror_mode": {
    "name": "ipython",
    "version": 3
   },
   "file_extension": ".py",
   "mimetype": "text/x-python",
   "name": "python",
   "nbconvert_exporter": "python",
   "pygments_lexer": "ipython3",
   "version": "3.8.2"
  }
 },
 "nbformat": 4,
 "nbformat_minor": 5
}